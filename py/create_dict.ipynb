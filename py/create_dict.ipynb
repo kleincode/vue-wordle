{
 "cells": [
  {
   "cell_type": "code",
   "execution_count": 1,
   "metadata": {},
   "outputs": [],
   "source": [
    "input_file = \"german5_simple_linebreaks.dic\"\n",
    "word_length = 5\n",
    "output_file = f\"german5_simple.dic\"\n",
    "allowed_letters = \"abcdefghijklmnopqrstuvwxyz\"\n",
    "enable_line_breaks = False"
   ]
  },
  {
   "cell_type": "code",
   "execution_count": 2,
   "metadata": {},
   "outputs": [
    {
     "name": "stdout",
     "output_type": "stream",
     "text": [
      "line #0\n"
     ]
    }
   ],
   "source": [
    "with open(output_file, \"w\", encoding=\"utf-8\") as out_f:\n",
    "    with open(input_file, \"r\", encoding=\"latin-1\") as in_f:\n",
    "\n",
    "        total_in_words = 0\n",
    "        total_out_words = 0\n",
    "\n",
    "        for i, line in enumerate(in_f):\n",
    "            if i % 10000 == 0:\n",
    "                print(f\"line #{i}\")\n",
    "            total_in_words += 1\n",
    "            line = line.strip().lower()\n",
    "            if len(line) == word_length:\n",
    "                allowed = True\n",
    "                for letter in line:\n",
    "                    if letter not in allowed_letters:\n",
    "                        allowed = False\n",
    "                        break\n",
    "                if allowed:\n",
    "                    total_out_words += 1\n",
    "                    out_f.write(line + (\"\\n\" if enable_line_breaks else \"\"))"
   ]
  },
  {
   "cell_type": "code",
   "execution_count": null,
   "metadata": {},
   "outputs": [],
   "source": []
  }
 ],
 "metadata": {
  "interpreter": {
   "hash": "dd2b533e38d9972dcef54a3128cf3b79b0ac47944ac6552b62f7fdd7eae568da"
  },
  "kernelspec": {
   "display_name": "Python 3.7.6 64-bit ('base': conda)",
   "language": "python",
   "name": "python3"
  },
  "language_info": {
   "codemirror_mode": {
    "name": "ipython",
    "version": 3
   },
   "file_extension": ".py",
   "mimetype": "text/x-python",
   "name": "python",
   "nbconvert_exporter": "python",
   "pygments_lexer": "ipython3",
   "version": "3.7.6"
  },
  "orig_nbformat": 4
 },
 "nbformat": 4,
 "nbformat_minor": 2
}
